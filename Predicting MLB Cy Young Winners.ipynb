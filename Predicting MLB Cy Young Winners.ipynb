{
 "cells": [
  {
   "cell_type": "markdown",
   "id": "025f20f9",
   "metadata": {},
   "source": [
    "# Predicting MLB Cy Young Winners\n",
    "\n",
    "CMSC422 Final Project\n",
    "\n",
    "Spring 2023 Teli\n",
    "\n",
    "Clay Miller\n",
    "\n",
    "# Introduction\n",
    "\n",
    "The Cy Young Award is an award given to the best pitcher in the American League and National League of Major League Baseball each year. The voting is conducted by the Baseball Writer's Association of America at the end of the regular season each year. The award is named after Hall of Fame pitcher Cy Young who died in 1955, who holds the record for most career MLB wins at 511. For the first 10 years after his death, the award was given to the best pitcher across both leagues. Since 1967, the award has been given to one pitcher in each league every year, with a weighted votes system.\n",
    "\n",
    "# Motivation\n",
    "\n",
    "The goal of this project is to create predictive models to determine who should win the Cy Young Award for a season based on the statistics they put up in the season in which they received votes for the award. Since the voting is done by baseball writers for each team ranking players from first to fifth in their voting, the best players in each league end up getting votes but the best may not always win. Therefore, this project sets out to determine which player seasons are worthy of the Cy Young Award that received at least 1 vote, by comparing their season statistics to other award winning seasons. \n",
    "\n",
    "These predictions can be used by people involved with baseball, whether it be people betting on who will win the award, people looking for what the best season statistics by pitchers are, or what seasons may not have deserved to win the Cy Young Award. The goal is to see how accurate each model is in predicting what season statistics should win the award that actually won the award.\n",
    "\n",
    "# Data\n",
    "\n",
    "Data is imported from https://www.baseball-reference.com/awards/cya.shtml and votingdata.csv contains the pitchers who have received at least 1 vote for the award between the 2000 and 2022 season, put into a dataframe.\n",
    "\n",
    "An id column is created in order to link the dataframe to a players dataframe containing the player's id, name and ranking to be compared to after running the models. Columns that are not significant or repetitive in determining the award winner for that season are dropped from the table and a CY column is created that is equal to 1 for player seasons that won the award and 0 otherwise."
   ]
  },
  {
   "cell_type": "code",
   "execution_count": 47,
   "id": "be96658d",
   "metadata": {},
   "outputs": [
    {
     "data": {
      "text/html": [
       "<div>\n",
       "<style scoped>\n",
       "    .dataframe tbody tr th:only-of-type {\n",
       "        vertical-align: middle;\n",
       "    }\n",
       "\n",
       "    .dataframe tbody tr th {\n",
       "        vertical-align: top;\n",
       "    }\n",
       "\n",
       "    .dataframe thead th {\n",
       "        text-align: right;\n",
       "    }\n",
       "</style>\n",
       "<table border=\"1\" class=\"dataframe\">\n",
       "  <thead>\n",
       "    <tr style=\"text-align: right;\">\n",
       "      <th></th>\n",
       "      <th>Name</th>\n",
       "      <th>Year</th>\n",
       "      <th>League</th>\n",
       "      <th>WAR</th>\n",
       "      <th>W</th>\n",
       "      <th>L</th>\n",
       "      <th>W-L%</th>\n",
       "      <th>ERA</th>\n",
       "      <th>CG</th>\n",
       "      <th>SHO</th>\n",
       "      <th>IP</th>\n",
       "      <th>SO</th>\n",
       "      <th>BF</th>\n",
       "      <th>WHIP</th>\n",
       "      <th>ERA+</th>\n",
       "      <th>id</th>\n",
       "      <th>CY</th>\n",
       "    </tr>\n",
       "  </thead>\n",
       "  <tbody>\n",
       "    <tr>\n",
       "      <th>0</th>\n",
       "      <td>Justin Verlander</td>\n",
       "      <td>2022</td>\n",
       "      <td>AL</td>\n",
       "      <td>5.7</td>\n",
       "      <td>18</td>\n",
       "      <td>4</td>\n",
       "      <td>0.818</td>\n",
       "      <td>1.75</td>\n",
       "      <td>0</td>\n",
       "      <td>0</td>\n",
       "      <td>175.0</td>\n",
       "      <td>185</td>\n",
       "      <td>666</td>\n",
       "      <td>0.829</td>\n",
       "      <td>223</td>\n",
       "      <td>0</td>\n",
       "      <td>1</td>\n",
       "    </tr>\n",
       "    <tr>\n",
       "      <th>1</th>\n",
       "      <td>Dylan Cease</td>\n",
       "      <td>2022</td>\n",
       "      <td>AL</td>\n",
       "      <td>6.4</td>\n",
       "      <td>14</td>\n",
       "      <td>8</td>\n",
       "      <td>0.636</td>\n",
       "      <td>2.2</td>\n",
       "      <td>1</td>\n",
       "      <td>1</td>\n",
       "      <td>184.0</td>\n",
       "      <td>227</td>\n",
       "      <td>747</td>\n",
       "      <td>1.109</td>\n",
       "      <td>184</td>\n",
       "      <td>1</td>\n",
       "      <td>0</td>\n",
       "    </tr>\n",
       "    <tr>\n",
       "      <th>2</th>\n",
       "      <td>Alek Manoah</td>\n",
       "      <td>2022</td>\n",
       "      <td>AL</td>\n",
       "      <td>6.0</td>\n",
       "      <td>16</td>\n",
       "      <td>7</td>\n",
       "      <td>0.696</td>\n",
       "      <td>2.24</td>\n",
       "      <td>0</td>\n",
       "      <td>0</td>\n",
       "      <td>196.2</td>\n",
       "      <td>180</td>\n",
       "      <td>786</td>\n",
       "      <td>0.992</td>\n",
       "      <td>170</td>\n",
       "      <td>2</td>\n",
       "      <td>0</td>\n",
       "    </tr>\n",
       "    <tr>\n",
       "      <th>3</th>\n",
       "      <td>Shohei Ohtani</td>\n",
       "      <td>2022</td>\n",
       "      <td>AL</td>\n",
       "      <td>6.2</td>\n",
       "      <td>15</td>\n",
       "      <td>9</td>\n",
       "      <td>0.625</td>\n",
       "      <td>2.33</td>\n",
       "      <td>0</td>\n",
       "      <td>0</td>\n",
       "      <td>166.0</td>\n",
       "      <td>219</td>\n",
       "      <td>660</td>\n",
       "      <td>1.012</td>\n",
       "      <td>174</td>\n",
       "      <td>3</td>\n",
       "      <td>0</td>\n",
       "    </tr>\n",
       "    <tr>\n",
       "      <th>4</th>\n",
       "      <td>Framber Valdez</td>\n",
       "      <td>2022</td>\n",
       "      <td>AL</td>\n",
       "      <td>3.5</td>\n",
       "      <td>17</td>\n",
       "      <td>6</td>\n",
       "      <td>0.739</td>\n",
       "      <td>2.82</td>\n",
       "      <td>3</td>\n",
       "      <td>1</td>\n",
       "      <td>201.1</td>\n",
       "      <td>194</td>\n",
       "      <td>827</td>\n",
       "      <td>1.157</td>\n",
       "      <td>138</td>\n",
       "      <td>4</td>\n",
       "      <td>0</td>\n",
       "    </tr>\n",
       "  </tbody>\n",
       "</table>\n",
       "</div>"
      ],
      "text/plain": [
       "               Name  Year League  WAR   W  L   W-L%   ERA  CG  SHO     IP  \\\n",
       "0  Justin Verlander  2022     AL  5.7  18  4  0.818  1.75   0    0  175.0   \n",
       "1       Dylan Cease  2022     AL  6.4  14  8  0.636   2.2   1    1  184.0   \n",
       "2       Alek Manoah  2022     AL  6.0  16  7  0.696  2.24   0    0  196.2   \n",
       "3     Shohei Ohtani  2022     AL  6.2  15  9  0.625  2.33   0    0  166.0   \n",
       "4    Framber Valdez  2022     AL  3.5  17  6  0.739  2.82   3    1  201.1   \n",
       "\n",
       "    SO   BF   WHIP  ERA+  id  CY  \n",
       "0  185  666  0.829   223   0   1  \n",
       "1  227  747  1.109   184   1   0  \n",
       "2  180  786  0.992   170   2   0  \n",
       "3  219  660  1.012   174   3   0  \n",
       "4  194  827  1.157   138   4   0  "
      ]
     },
     "execution_count": 47,
     "metadata": {},
     "output_type": "execute_result"
    }
   ],
   "source": [
    "import requests\n",
    "import numpy as np\n",
    "import pandas as pd\n",
    "import seaborn as sns\n",
    "import matplotlib.pyplot as plt\n",
    "\n",
    "#Reading the data into a data frame\n",
    "awardvoting = pd.read_csv('votingdata.csv', dtype={'Year' : 'Int64', 'WAR': 'Float64', 'W': 'Int64', 'L': 'Int64', \n",
    "                                                   'W-L%': 'Float64', 'ERA': 'Float64', 'G': 'Int64', 'GS': 'Int64', \n",
    "                                                   'GF': 'Int64', 'CG': 'Int64', 'SHO': 'Int64', 'SV': 'Int64', 'IP': 'Float64',\n",
    "                                                   'H': 'Int64', 'R': 'Int64', 'ER': 'Int64', 'HR': 'Int64', 'BB': 'Int64',\n",
    "                                                   'IBB': 'Int64', 'SO': 'Int64', 'HBP': 'Int64', 'BK': 'Int64', 'WP': 'Int64',\n",
    "                                                   'BF': 'Int64', 'WHIP': 'Float64', 'ERA+': 'Int64'})\n",
    "#creating id column\n",
    "awardvoting['id'] = awardvoting.index\n",
    "\n",
    "#creating a CY column to predict\n",
    "awardvoting['CY'] = np.where(awardvoting['Rank'] == 1, 1, 0)\n",
    "\n",
    "#create players data frame to link ids to player names and ranks\n",
    "players = awardvoting.filter(['id', 'Name', 'Rank'], axis=1)\n",
    "\n",
    "#Getting rid of unnecessary columns\n",
    "awardvoting = awardvoting.drop(columns = ['Tm', 'Rank', 'Vote Pts', '1st Place', 'Share','Name-additional', 'G', 'GS', \n",
    "                                          'GF', 'SV', 'H', 'R', 'ER', 'HR', 'BB', 'IBB', 'HBP', 'BK', 'WP'])\n",
    "awardvoting.head()"
   ]
  },
  {
   "cell_type": "code",
   "execution_count": 48,
   "id": "17a4241a",
   "metadata": {},
   "outputs": [
    {
     "data": {
      "text/html": [
       "<div>\n",
       "<style scoped>\n",
       "    .dataframe tbody tr th:only-of-type {\n",
       "        vertical-align: middle;\n",
       "    }\n",
       "\n",
       "    .dataframe tbody tr th {\n",
       "        vertical-align: top;\n",
       "    }\n",
       "\n",
       "    .dataframe thead th {\n",
       "        text-align: right;\n",
       "    }\n",
       "</style>\n",
       "<table border=\"1\" class=\"dataframe\">\n",
       "  <thead>\n",
       "    <tr style=\"text-align: right;\">\n",
       "      <th></th>\n",
       "      <th>id</th>\n",
       "      <th>Name</th>\n",
       "      <th>Rank</th>\n",
       "    </tr>\n",
       "  </thead>\n",
       "  <tbody>\n",
       "    <tr>\n",
       "      <th>0</th>\n",
       "      <td>0</td>\n",
       "      <td>Justin Verlander</td>\n",
       "      <td>1</td>\n",
       "    </tr>\n",
       "    <tr>\n",
       "      <th>1</th>\n",
       "      <td>1</td>\n",
       "      <td>Dylan Cease</td>\n",
       "      <td>2</td>\n",
       "    </tr>\n",
       "    <tr>\n",
       "      <th>2</th>\n",
       "      <td>2</td>\n",
       "      <td>Alek Manoah</td>\n",
       "      <td>3</td>\n",
       "    </tr>\n",
       "    <tr>\n",
       "      <th>3</th>\n",
       "      <td>3</td>\n",
       "      <td>Shohei Ohtani</td>\n",
       "      <td>4</td>\n",
       "    </tr>\n",
       "    <tr>\n",
       "      <th>4</th>\n",
       "      <td>4</td>\n",
       "      <td>Framber Valdez</td>\n",
       "      <td>5</td>\n",
       "    </tr>\n",
       "  </tbody>\n",
       "</table>\n",
       "</div>"
      ],
      "text/plain": [
       "   id              Name  Rank\n",
       "0   0  Justin Verlander     1\n",
       "1   1       Dylan Cease     2\n",
       "2   2       Alek Manoah     3\n",
       "3   3     Shohei Ohtani     4\n",
       "4   4    Framber Valdez     5"
      ]
     },
     "execution_count": 48,
     "metadata": {},
     "output_type": "execute_result"
    }
   ],
   "source": [
    "players.head()"
   ]
  },
  {
   "cell_type": "markdown",
   "id": "beba1121",
   "metadata": {},
   "source": [
    "# Statistics\n",
    "https://www.mlb.com/glossary/standard-stats\n",
    "https://www.mlb.com/glossary/advanced-stats\n",
    "\n",
    "WAR is a statistic that is used to determine how many more wins a player is worth than a replacement level player or just the average player at that position\n",
    "\n",
    "Win is a statistic given to a pitcher who was pitching when their team takes the lead and holds onto it, a starting pitcher needs to pitch at least five innings to be eligible.\n",
    "\n",
    "Loss is given to the pitcher who gives up the run that ends up being the difference in the game.\n",
    "\n",
    "W-L% is the ratio of wins to losses for the pitcher\n",
    "\n",
    "ERA is earned run average meaning the amount of runs the pitcher allows per nine innings that the pitcher is responsible for.\n",
    "\n",
    "CG is a complete game meaning the pitcher pitches the game from start to finish.\n",
    "\n",
    "SHO is a shutout meaning a starting pitcher pitches the entire game for a team and does not give up a run.\n",
    "\n",
    "IP is the number of innings a pitcher completes in a game.\n",
    "\n",
    "SO is strikeouts which is when a pitcher gets a batter to get to three strikes to get out.\n",
    "\n",
    "BF is batters faced which is the amount of batters a pitcher faces in a game.\n",
    "\n",
    "WHIP is walks and hits per inning pitched which demonstrates how many batters a pitcher allows to get on base in an inning.\n",
    "\n",
    "ERA+ takes a pitcher's ERA and normalizes it to the entire league accounting for what stadium a pitcher pitches in and the opponents they face."
   ]
  },
  {
   "cell_type": "code",
   "execution_count": 49,
   "id": "5ddda0ee",
   "metadata": {},
   "outputs": [
    {
     "name": "stdout",
     "output_type": "stream",
     "text": [
      "Index(['Year', 'League', 'WAR', 'W', 'L', 'W-L%', 'ERA', 'CG', 'SHO', 'IP',\n",
      "       'SO', 'BF', 'WHIP', 'ERA+', 'id', 'CY'],\n",
      "      dtype='object')\n"
     ]
    }
   ],
   "source": [
    "awardvoting = awardvoting.drop('Name', axis=1)\n",
    "print(awardvoting.columns)"
   ]
  },
  {
   "cell_type": "markdown",
   "id": "bc903d20",
   "metadata": {},
   "source": [
    "Wins above replacement having a strong correlation with winning the award makes sense as pitchers that bring you the most wins tend to be the most valuable, wins for the same reason, complete games and shutouts are the best things a pitcher can do in a game, the more innings pitched the more valuable, same with batters faced. Win loss percent should also be correlated as good pitchers bring you more wins than losses, ERA+ seems to have a lower correlation than expected.\n",
    "\n",
    "Losses, ERA and WHIP is better to have lower numbers so it makes sense they have negative correlation"
   ]
  },
  {
   "cell_type": "code",
   "execution_count": 50,
   "id": "1c533a9a",
   "metadata": {},
   "outputs": [
    {
     "data": {
      "text/plain": [
       "CY      1.000000\n",
       "WAR     0.409292\n",
       "SO      0.308910\n",
       "W       0.248715\n",
       "CG      0.241113\n",
       "IP      0.209518\n",
       "SHO     0.199359\n",
       "BF      0.181163\n",
       "W-L%    0.172433\n",
       "id      0.057440\n",
       "ERA+    0.037398\n",
       "L      -0.054225\n",
       "Year   -0.072738\n",
       "ERA    -0.139616\n",
       "WHIP   -0.163596\n",
       "Name: CY, dtype: float64"
      ]
     },
     "execution_count": 50,
     "metadata": {},
     "output_type": "execute_result"
    }
   ],
   "source": [
    "awardvoting.corr()['CY'].sort_values(ascending=False)"
   ]
  },
  {
   "cell_type": "markdown",
   "id": "8f1364fe",
   "metadata": {},
   "source": [
    "# Models\n",
    "\n",
    "Now, models will be used to predict which player seasons should win the Cy Young award by training on Cy young award winners.\n",
    "SK learn's train test split:https://scikit-learn.org/stable/modules/generated/sklearn.model_selection.train_test_split.html is used in order to split the data into training and test sets. A sample of 20% of the data is used as the test set."
   ]
  },
  {
   "cell_type": "code",
   "execution_count": 80,
   "id": "181f20b6",
   "metadata": {},
   "outputs": [],
   "source": [
    "from sklearn.model_selection import train_test_split\n",
    "\n",
    "# Dropping the Cy column the input data\n",
    "X = awardvoting.drop('CY', axis=1)\n",
    "\n",
    "#Setting the output to be the CY column which is being predicted\n",
    "y = awardvoting['CY']\n",
    "\n",
    "X_train, X_test, y_train, y_test = train_test_split(X, y, test_size=0.2, random_state=0)\n",
    "\n",
    "#Dropping the league and year columns to make sure they do not influence results\n",
    "X_train = X_train.drop('League', axis=1)\n",
    "X_test = X_test.drop('League', axis=1)\n",
    "X_train = X_train.drop('Year', axis=1)\n",
    "X_test = X_test.drop('Year', axis=1)"
   ]
  },
  {
   "cell_type": "markdown",
   "id": "622ff4e8",
   "metadata": {},
   "source": [
    "# Decision Trees\n",
    "\n",
    "A decision tree is used by importing scikit learn decsion trees from https://scikit-learn.org/stable/modules/tree.html"
   ]
  },
  {
   "cell_type": "code",
   "execution_count": 86,
   "id": "15f4de00",
   "metadata": {},
   "outputs": [
    {
     "data": {
      "text/plain": [
       "[Text(208.64347826086959, 205.35999999999999, 'X[0] <= 7.05\\ngini = 0.194\\nsamples = 321\\nvalue = [286, 35]'),\n",
       " Text(140.7130434782609, 181.2, 'X[1] <= 19.5\\ngini = 0.097\\nsamples = 275\\nvalue = [261, 14]'),\n",
       " Text(72.78260869565219, 157.04, 'X[12] <= 1.0\\ngini = 0.048\\nsamples = 242\\nvalue = [236, 6]'),\n",
       " Text(63.07826086956522, 132.88, 'gini = 0.0\\nsamples = 1\\nvalue = [0, 1]'),\n",
       " Text(82.48695652173913, 132.88, 'X[3] <= 0.814\\ngini = 0.041\\nsamples = 241\\nvalue = [236, 5]'),\n",
       " Text(38.81739130434783, 108.72, 'X[10] <= 0.708\\ngini = 0.027\\nsamples = 219\\nvalue = [216, 3]'),\n",
       " Text(19.408695652173915, 84.56, 'X[11] <= 355.0\\ngini = 0.32\\nsamples = 5\\nvalue = [4, 1]'),\n",
       " Text(9.704347826086957, 60.400000000000006, 'gini = 0.0\\nsamples = 1\\nvalue = [0, 1]'),\n",
       " Text(29.11304347826087, 60.400000000000006, 'gini = 0.0\\nsamples = 4\\nvalue = [4, 0]'),\n",
       " Text(58.22608695652174, 84.56, 'X[8] <= 233.5\\ngini = 0.019\\nsamples = 214\\nvalue = [212, 2]'),\n",
       " Text(48.52173913043479, 60.400000000000006, 'gini = 0.0\\nsamples = 187\\nvalue = [187, 0]'),\n",
       " Text(67.9304347826087, 60.400000000000006, 'X[11] <= 157.5\\ngini = 0.137\\nsamples = 27\\nvalue = [25, 2]'),\n",
       " Text(58.22608695652174, 36.24000000000001, 'gini = 0.0\\nsamples = 21\\nvalue = [21, 0]'),\n",
       " Text(77.63478260869566, 36.24000000000001, 'X[10] <= 0.928\\ngini = 0.444\\nsamples = 6\\nvalue = [4, 2]'),\n",
       " Text(67.9304347826087, 12.079999999999984, 'gini = 0.0\\nsamples = 4\\nvalue = [4, 0]'),\n",
       " Text(87.33913043478262, 12.079999999999984, 'gini = 0.0\\nsamples = 2\\nvalue = [0, 2]'),\n",
       " Text(126.15652173913044, 108.72, 'X[9] <= 871.0\\ngini = 0.165\\nsamples = 22\\nvalue = [20, 2]'),\n",
       " Text(116.45217391304348, 84.56, 'X[12] <= 43.5\\ngini = 0.091\\nsamples = 21\\nvalue = [20, 1]'),\n",
       " Text(106.74782608695654, 60.400000000000006, 'X[0] <= 2.95\\ngini = 0.5\\nsamples = 2\\nvalue = [1, 1]'),\n",
       " Text(97.04347826086958, 36.24000000000001, 'gini = 0.0\\nsamples = 1\\nvalue = [1, 0]'),\n",
       " Text(116.45217391304348, 36.24000000000001, 'gini = 0.0\\nsamples = 1\\nvalue = [0, 1]'),\n",
       " Text(126.15652173913044, 60.400000000000006, 'gini = 0.0\\nsamples = 19\\nvalue = [19, 0]'),\n",
       " Text(135.8608695652174, 84.56, 'gini = 0.0\\nsamples = 1\\nvalue = [0, 1]'),\n",
       " Text(208.64347826086959, 157.04, 'X[6] <= 2.5\\ngini = 0.367\\nsamples = 33\\nvalue = [25, 8]'),\n",
       " Text(198.9391304347826, 132.88, 'X[3] <= 0.843\\ngini = 0.312\\nsamples = 31\\nvalue = [25, 6]'),\n",
       " Text(174.67826086956524, 108.72, 'X[12] <= 208.0\\ngini = 0.198\\nsamples = 27\\nvalue = [24, 3]'),\n",
       " Text(155.26956521739132, 84.56, 'X[12] <= 129.0\\ngini = 0.444\\nsamples = 6\\nvalue = [4, 2]'),\n",
       " Text(145.56521739130437, 60.400000000000006, 'gini = 0.0\\nsamples = 4\\nvalue = [4, 0]'),\n",
       " Text(164.97391304347826, 60.400000000000006, 'gini = 0.0\\nsamples = 2\\nvalue = [0, 2]'),\n",
       " Text(194.08695652173915, 84.56, 'X[11] <= 122.5\\ngini = 0.091\\nsamples = 21\\nvalue = [20, 1]'),\n",
       " Text(184.38260869565218, 60.400000000000006, 'X[12] <= 344.5\\ngini = 0.278\\nsamples = 6\\nvalue = [5, 1]'),\n",
       " Text(174.67826086956524, 36.24000000000001, 'gini = 0.0\\nsamples = 1\\nvalue = [0, 1]'),\n",
       " Text(194.08695652173915, 36.24000000000001, 'gini = 0.0\\nsamples = 5\\nvalue = [5, 0]'),\n",
       " Text(203.7913043478261, 60.400000000000006, 'gini = 0.0\\nsamples = 15\\nvalue = [15, 0]'),\n",
       " Text(223.20000000000002, 108.72, 'X[12] <= 80.5\\ngini = 0.375\\nsamples = 4\\nvalue = [1, 3]'),\n",
       " Text(213.49565217391307, 84.56, 'gini = 0.0\\nsamples = 1\\nvalue = [1, 0]'),\n",
       " Text(232.90434782608696, 84.56, 'gini = 0.0\\nsamples = 3\\nvalue = [0, 3]'),\n",
       " Text(218.34782608695653, 132.88, 'gini = 0.0\\nsamples = 2\\nvalue = [0, 2]'),\n",
       " Text(276.5739130434783, 181.2, 'X[11] <= 166.5\\ngini = 0.496\\nsamples = 46\\nvalue = [25, 21]'),\n",
       " Text(247.46086956521742, 157.04, 'X[1] <= 17.5\\ngini = 0.308\\nsamples = 21\\nvalue = [17, 4]'),\n",
       " Text(237.75652173913045, 132.88, 'gini = 0.0\\nsamples = 12\\nvalue = [12, 0]'),\n",
       " Text(257.1652173913044, 132.88, 'X[7] <= 227.65\\ngini = 0.494\\nsamples = 9\\nvalue = [5, 4]'),\n",
       " Text(247.46086956521742, 108.72, 'gini = 0.0\\nsamples = 3\\nvalue = [3, 0]'),\n",
       " Text(266.8695652173913, 108.72, 'X[0] <= 8.35\\ngini = 0.444\\nsamples = 6\\nvalue = [2, 4]'),\n",
       " Text(257.1652173913044, 84.56, 'gini = 0.0\\nsamples = 4\\nvalue = [0, 4]'),\n",
       " Text(276.5739130434783, 84.56, 'gini = 0.0\\nsamples = 2\\nvalue = [2, 0]'),\n",
       " Text(305.68695652173915, 157.04, 'X[8] <= 212.5\\ngini = 0.435\\nsamples = 25\\nvalue = [8, 17]'),\n",
       " Text(295.9826086956522, 132.88, 'gini = 0.0\\nsamples = 4\\nvalue = [4, 0]'),\n",
       " Text(315.3913043478261, 132.88, 'X[11] <= 180.5\\ngini = 0.308\\nsamples = 21\\nvalue = [4, 17]'),\n",
       " Text(305.68695652173915, 108.72, 'X[12] <= 319.0\\ngini = 0.48\\nsamples = 10\\nvalue = [4, 6]'),\n",
       " Text(295.9826086956522, 84.56, 'X[12] <= 103.5\\ngini = 0.375\\nsamples = 8\\nvalue = [2, 6]'),\n",
       " Text(286.27826086956526, 60.400000000000006, 'X[11] <= 176.0\\ngini = 0.444\\nsamples = 3\\nvalue = [2, 1]'),\n",
       " Text(276.5739130434783, 36.24000000000001, 'gini = 0.0\\nsamples = 2\\nvalue = [2, 0]'),\n",
       " Text(295.9826086956522, 36.24000000000001, 'gini = 0.0\\nsamples = 1\\nvalue = [0, 1]'),\n",
       " Text(305.68695652173915, 60.400000000000006, 'gini = 0.0\\nsamples = 5\\nvalue = [0, 5]'),\n",
       " Text(315.3913043478261, 84.56, 'gini = 0.0\\nsamples = 2\\nvalue = [2, 0]'),\n",
       " Text(325.0956521739131, 108.72, 'gini = 0.0\\nsamples = 11\\nvalue = [0, 11]')]"
      ]
     },
     "execution_count": 86,
     "metadata": {},
     "output_type": "execute_result"
    },
    {
     "data": {
      "image/png": "[encoded data removed]",
      "text/plain": [
       "<Figure size 432x288 with 1 Axes>"
      ]
     },
     "metadata": {
      "needs_background": "light"
     },
     "output_type": "display_data"
    }
   ],
   "source": [
    "from sklearn import tree\n",
    "dt = tree.DecisionTreeClassifier()\n",
    "dt.fit(X_train, y_train)\n",
    "\n",
    "y_pred = dt.predict(X_test)\n",
    "dt.score(X_train, y_train)\n",
    "\n",
    "tree.plot_tree(dt)"
   ]
  },
  {
   "cell_type": "markdown",
   "id": "f7f128eb",
   "metadata": {},
   "source": [
    "An accuracy score from https://scikitlearn.org/stable/modules/generated/sklearn.metrics.accuracy_score.html is used to determine the accuracy of the predictions on the testing set."
   ]
  },
  {
   "cell_type": "code",
   "execution_count": 106,
   "id": "4a55f27a",
   "metadata": {},
   "outputs": [
    {
     "name": "stdout",
     "output_type": "stream",
     "text": [
      "     id              Name  Rank   CY\n",
      "0     1       Dylan Cease     2  1.0\n",
      "72  336  Dontrelle Willis     2  1.0\n",
      "44  176   Adam Wainwright     3  1.0\n",
      "37  158   Clayton Kershaw     3  1.0\n",
      "32  142    Dallas Keuchel     1  1.0\n",
      "51  225  Justin Verlander     1  1.0\n",
      "60  283         Cliff Lee     1  1.0\n",
      "14   52     Liam Hendriks     9  1.0\n",
      "61  287    Mariano Rivera     5  1.0\n",
      "43  175      Johnny Cueto     2  1.0\n",
      "78  396     Randy Johnson     1  1.0\n",
      "76  379       Mark Mulder     2  1.0\n",
      "     id              Name  Rank   CY\n",
      "67  320      Brandon Webb     1  0.0\n",
      "64  296       CC Sabathia     1  0.0\n",
      "10   22        Robbie Ray     1  0.0\n",
      "15   54      Trevor Bauer     1  0.0\n",
      "32  142    Dallas Keuchel     1  1.0\n",
      "51  225  Justin Verlander     1  1.0\n",
      "60  283         Cliff Lee     1  1.0\n",
      "5    10   Sandy Alcantara     1  0.0\n",
      "55  236   Clayton Kershaw     1  0.0\n",
      "20   74      Jacob deGrom     1  0.0\n",
      "78  396     Randy Johnson     1  1.0\n",
      "77  385    Curt Schilling     2  0.0\n"
     ]
    }
   ],
   "source": [
    "#chance a player's season wins the award\n",
    "pred_proba = dt.predict_proba(X_test)\n",
    "\n",
    "#combine chance player's season wins an award with dataframe containing the player's name and ranking based on id\n",
    "cypredictions = []\n",
    "for i in enumerate(pred_proba):\n",
    "    cypredictions.append(i[1][1])\n",
    "\n",
    "cypredictions = np.asarray(cypredictions)\n",
    "results_CY = pd.DataFrame({'id': X_test['id'], 'CY': cypredictions})\n",
    "\n",
    "results_CY = players.merge(results_CY, on='id')\n",
    "\n",
    "#The player seasons in the test set with highest predicted probability of winning the award\n",
    "results_CY = results_CY.sort_values(by='CY', ascending=False)\n",
    "print(results_CY.head(12))\n",
    "\n",
    "#The player seasons in the test set that won the award and their predicted probability according to the model\n",
    "results_Rank = results_CY.sort_values(by='Rank', ascending=True)\n",
    "print(results_Rank.head(12))"
   ]
  },
  {
   "cell_type": "markdown",
   "id": "0c5a8237",
   "metadata": {},
   "source": [
    "Besides a couple outlying 3rd, 5th and 9th place finishers projected to win, every predicted winner from the test set finished either 1st or 2nd, showing that the decision tree agrees with the voters for the most part."
   ]
  },
  {
   "cell_type": "markdown",
   "id": "3adcafd2",
   "metadata": {},
   "source": [
    "The accuracy on the training set is determined to be "
   ]
  },
  {
   "cell_type": "code",
   "execution_count": 97,
   "id": "e58bda0f",
   "metadata": {},
   "outputs": [
    {
     "name": "stdout",
     "output_type": "stream",
     "text": [
      "1.0\n"
     ]
    }
   ],
   "source": [
    "print(dt.score(X_train, y_train))"
   ]
  },
  {
   "cell_type": "markdown",
   "id": "80213b79",
   "metadata": {},
   "source": [
    "whereas the accuracy on the test set is determined to be"
   ]
  },
  {
   "cell_type": "code",
   "execution_count": 98,
   "id": "3108d0d9",
   "metadata": {},
   "outputs": [
    {
     "data": {
      "text/plain": [
       "0.8148148148148148"
      ]
     },
     "execution_count": 98,
     "metadata": {},
     "output_type": "execute_result"
    }
   ],
   "source": [
    "from sklearn.metrics import accuracy_score\n",
    "y_true = np.array(y_test)\n",
    "accuracy_score(y_true, y_pred)"
   ]
  },
  {
   "cell_type": "code",
   "execution_count": 107,
   "id": "dc12a5c7",
   "metadata": {},
   "outputs": [
    {
     "data": {
      "image/png": "[encoded data removed]",
      "text/plain": [
       "<Figure size 864x432 with 1 Axes>"
      ]
     },
     "metadata": {
      "needs_background": "light"
     },
     "output_type": "display_data"
    }
   ],
   "source": [
    "plt.figure(figsize=(12,6))\n",
    "g = sns.boxplot(x = results_CY.Rank, y = results_CY.CY)\n",
    "plt.title('DT Predictions for CY Probability')\n",
    "plt.show()"
   ]
  },
  {
   "cell_type": "markdown",
   "id": "eabcbb51",
   "metadata": {},
   "source": [
    "It is clear that decision trees giving a result of either win the Cy Young award or not when trained on the training data does not give much to take away from in terms of results. The seasons that won the award or finished 2nd are strongly favored by the model because it will end up returning 0 instead of a percent chance of winning the award for those that are unlikely. The accuracy on the test set was fine but it could be improved with a different model as this seems to overfit the training set.\n",
    "\n",
    "# KNN\n",
    "\n",
    "A K Nearest Neighbors Classifier is used by importing scikit learn KNeighborsClassifier from\n",
    "https://scikit-learn.org/stable/modules/generated/sklearn.neighbors.KNeighborsClassifier.html\n",
    "\n",
    "Finding the best value for K was performed and the best value for k was found to be 13\n",
    "https://www.datacamp.com/tutorial/k-nearest-neighbor-classification-scikit-learn\n"
   ]
  },
  {
   "cell_type": "code",
   "execution_count": 242,
   "id": "b9703349",
   "metadata": {},
   "outputs": [
    {
     "data": {
      "text/plain": [
       "Text(0, 0.5, 'Accuracy Score')"
      ]
     },
     "execution_count": 242,
     "metadata": {},
     "output_type": "execute_result"
    },
    {
     "data": {
      "image/png": "[encoded data removed]",
      "text/plain": [
       "<Figure size 432x288 with 1 Axes>"
      ]
     },
     "metadata": {
      "needs_background": "light"
     },
     "output_type": "display_data"
    }
   ],
   "source": [
    "from sklearn.neighbors import KNeighborsClassifier\n",
    "from sklearn.model_selection import cross_val_score\n",
    "from sklearn.preprocessing import StandardScaler\n",
    "\n",
    "# X = X.drop('League', axis=1)\n",
    "# X = X.drop('Year', axis=1)\n",
    "\n",
    "k_values = [i for i in range (1,31)]\n",
    "scores = []\n",
    "\n",
    "scaler = StandardScaler()\n",
    "X = scaler.fit_transform(X)\n",
    "\n",
    "for k in k_values:\n",
    "    knn = KNeighborsClassifier(n_neighbors=k)\n",
    "    score = cross_val_score(knn, X, y, cv=5)\n",
    "    scores.append(np.mean(score))\n",
    "\n",
    "sns.lineplot(x = k_values, y = scores, marker = 'o')\n",
    "plt.xlabel(\"K Values\")\n",
    "plt.ylabel(\"Accuracy Score\")"
   ]
  },
  {
   "cell_type": "code",
   "execution_count": 243,
   "id": "bccf93ef",
   "metadata": {},
   "outputs": [
    {
     "name": "stdout",
     "output_type": "stream",
     "text": [
      "     id               Name  Rank        CY\n",
      "78  396      Randy Johnson     1  0.461538\n",
      "77  385     Curt Schilling     2  0.307692\n",
      "51  225   Justin Verlander     1  0.307692\n",
      "80  401        Kevin Brown     6  0.230769\n",
      "29  135  Madison Bumgarner     4  0.230769\n",
      "37  158    Clayton Kershaw     3  0.230769\n",
      "41  170        David Price     6  0.230769\n",
      "43  175       Johnny Cueto     2  0.230769\n",
      "55  236    Clayton Kershaw     1  0.230769\n",
      "73  344     Pedro Martinez     4  0.230769\n",
      "21   76       Max Scherzer     3  0.153846\n",
      "32  142     Dallas Keuchel     1  0.153846\n",
      "     id              Name  Rank        CY\n",
      "78  396     Randy Johnson     1  0.461538\n",
      "60  283         Cliff Lee     1  0.000000\n",
      "51  225  Justin Verlander     1  0.307692\n",
      "5    10   Sandy Alcantara     1  0.000000\n",
      "10   22        Robbie Ray     1  0.000000\n",
      "15   54      Trevor Bauer     1  0.076923\n",
      "55  236   Clayton Kershaw     1  0.230769\n",
      "67  320      Brandon Webb     1  0.153846\n",
      "32  142    Dallas Keuchel     1  0.153846\n",
      "20   74      Jacob deGrom     1  0.153846\n",
      "64  296       CC Sabathia     1  0.153846\n",
      "56  249       David Price     2  0.076923\n"
     ]
    }
   ],
   "source": [
    "knn = KNeighborsClassifier(n_neighbors=13)\n",
    "knn.fit(X_train, y_train)\n",
    "y_pred = knn.predict(X_test)\n",
    "\n",
    "#chance a player's season wins the award\n",
    "pred_proba = knn.predict_proba(X_test)\n",
    "\n",
    "#combine chance player's season wins an award with dataframe containing the player's name and ranking based on id\n",
    "cypredictions = []\n",
    "for i in enumerate(pred_proba):\n",
    "    cypredictions.append(i[1][1])\n",
    "\n",
    "cypredictions = np.asarray(cypredictions)\n",
    "results_CY = pd.DataFrame({'id': X_test['id'], 'CY': cypredictions})\n",
    "\n",
    "results_CY = players.merge(results_CY, on='id')\n",
    "\n",
    "#The player seasons in the test set with highest predicted probability of winning the award\n",
    "results_CY = results_CY.sort_values(by='CY', ascending=False)\n",
    "print(results_CY.head(12))\n",
    "\n",
    "#The player seasons in the test set that won the award and their predicted probability according to the model\n",
    "results_Rank = results_CY.sort_values(by='Rank', ascending=True)\n",
    "print(results_Rank.head(12))"
   ]
  },
  {
   "cell_type": "markdown",
   "id": "ec666d3e",
   "metadata": {},
   "source": [
    "KNN using the 13 nearest neighbors was able to predict more accurately than decision trees but still could be improved. It mostly predicted the 1st and 2nd place finishers to have the best odds at winning but it did have some outlying lower place vote getters that it gave the same odds to win. For example, it gives the 4th and 6th place finishers better odds than expected.\n",
    "\n",
    "The accuracy on the training set is determined to be"
   ]
  },
  {
   "cell_type": "code",
   "execution_count": 244,
   "id": "50c3e298",
   "metadata": {},
   "outputs": [
    {
     "name": "stdout",
     "output_type": "stream",
     "text": [
      "0.8909657320872274\n"
     ]
    }
   ],
   "source": [
    "print(knn.score(X_train, y_train))"
   ]
  },
  {
   "cell_type": "markdown",
   "id": "dec8ebec",
   "metadata": {},
   "source": [
    "whereas the accuracy on the test set is determined to be"
   ]
  },
  {
   "cell_type": "code",
   "execution_count": 245,
   "id": "eea6e2cd",
   "metadata": {},
   "outputs": [
    {
     "data": {
      "text/plain": [
       "0.8641975308641975"
      ]
     },
     "execution_count": 245,
     "metadata": {},
     "output_type": "execute_result"
    }
   ],
   "source": [
    "accuracy_score(y_true, y_pred)"
   ]
  },
  {
   "cell_type": "code",
   "execution_count": 246,
   "id": "9fadc751",
   "metadata": {},
   "outputs": [
    {
     "data": {
      "image/png": "[encoded data removed]",
      "text/plain": [
       "<Figure size 864x432 with 1 Axes>"
      ]
     },
     "metadata": {
      "needs_background": "light"
     },
     "output_type": "display_data"
    }
   ],
   "source": [
    "plt.figure(figsize=(12,6))\n",
    "g = sns.boxplot(x = results_CY.Rank, y = results_CY.CY)\n",
    "plt.title('KNN Predictions for CY Probability')\n",
    "plt.show()"
   ]
  },
  {
   "cell_type": "markdown",
   "id": "417236d5",
   "metadata": {},
   "source": [
    "It is clear that the KNN model gives non first-place finishers much better odds than decision trees but it is clear improvements can still be made.\n",
    "\n",
    "# SVM\n",
    "SVM is used by importing scikit learnSVC from https://scikit-learn.org/stable/modules/generated/sklearn.svm.SVC.html"
   ]
  },
  {
   "cell_type": "code",
   "execution_count": 247,
   "id": "55c3a163",
   "metadata": {},
   "outputs": [
    {
     "name": "stdout",
     "output_type": "stream",
     "text": [
      "     id              Name  Rank        CY\n",
      "51  225  Justin Verlander     1  0.459346\n",
      "78  396     Randy Johnson     1  0.440990\n",
      "55  236   Clayton Kershaw     1  0.390970\n",
      "77  385    Curt Schilling     2  0.370921\n",
      "37  158   Clayton Kershaw     3  0.363383\n",
      "60  283         Cliff Lee     1  0.295461\n",
      "43  175      Johnny Cueto     2  0.247344\n",
      "32  142    Dallas Keuchel     1  0.205925\n",
      "62  294       CC Sabathia     5  0.200688\n",
      "72  336  Dontrelle Willis     2  0.183630\n",
      "80  401       Kevin Brown     6  0.174833\n",
      "44  176   Adam Wainwright     3  0.173200\n",
      "     id              Name  Rank        CY\n",
      "51  225  Justin Verlander     1  0.459346\n",
      "20   74      Jacob deGrom     1  0.108332\n",
      "5    10   Sandy Alcantara     1  0.113665\n",
      "10   22        Robbie Ray     1  0.088638\n",
      "15   54      Trevor Bauer     1  0.061728\n",
      "64  296       CC Sabathia     1  0.138617\n",
      "32  142    Dallas Keuchel     1  0.205925\n",
      "67  320      Brandon Webb     1  0.106295\n",
      "78  396     Randy Johnson     1  0.440990\n",
      "60  283         Cliff Lee     1  0.295461\n",
      "55  236   Clayton Kershaw     1  0.390970\n",
      "50  217   Clayton Kershaw     2  0.136310\n"
     ]
    }
   ],
   "source": [
    "from sklearn.svm import SVC\n",
    "svm = SVC(kernel='linear', probability=True)\n",
    "svm.fit(X_train, y_train)\n",
    "y_pred = svm.predict(X_test)\n",
    "\n",
    "#chance a player's season wins the award\n",
    "pred_proba = svm.predict_proba(X_test)\n",
    "\n",
    "#combine chance player's season wins an award with dataframe containing the player's name and ranking based on id\n",
    "cypredictions = []\n",
    "for i in enumerate(pred_proba):\n",
    "    cypredictions.append(i[1][1])\n",
    "\n",
    "cypredictions = np.asarray(cypredictions)\n",
    "results_CY = pd.DataFrame({'id': X_test['id'], 'CY': cypredictions})\n",
    "\n",
    "results_CY = players.merge(results_CY, on='id')\n",
    "\n",
    "#The player seasons in the test set with highest predicted probability of winning the award\n",
    "results_CY = results_CY.sort_values(by='CY', ascending=False)\n",
    "print(results_CY.head(12))\n",
    "\n",
    "#The player seasons in the test set that won the award and their predicted probability according to the model\n",
    "results_Rank = results_CY.sort_values(by='Rank', ascending=True)\n",
    "print(results_Rank.head(12))"
   ]
  },
  {
   "cell_type": "markdown",
   "id": "6f10a67a",
   "metadata": {},
   "source": [
    "Clearly, SVM performs better than the previous 2 models on the test set and gives the first place finishers much better odds than the rest of the rankings. This shows that this model fits the data better than the other 2 and it is reflected in the test accuracy. It also does not have major outliers like the previous 2 models.\n",
    "\n",
    "The accuracy on the training set is determined to be"
   ]
  },
  {
   "cell_type": "code",
   "execution_count": 248,
   "id": "016f39e8",
   "metadata": {},
   "outputs": [
    {
     "name": "stdout",
     "output_type": "stream",
     "text": [
      "0.9034267912772586\n"
     ]
    }
   ],
   "source": [
    "print(svm.score(X_train, y_train))"
   ]
  },
  {
   "cell_type": "markdown",
   "id": "8efdf4c8",
   "metadata": {},
   "source": [
    "whereas the accuracy on the test set is determined to be"
   ]
  },
  {
   "cell_type": "code",
   "execution_count": 249,
   "id": "15f4b139",
   "metadata": {},
   "outputs": [
    {
     "data": {
      "text/plain": [
       "0.8765432098765432"
      ]
     },
     "execution_count": 249,
     "metadata": {},
     "output_type": "execute_result"
    }
   ],
   "source": [
    "accuracy_score(y_true, y_pred)"
   ]
  },
  {
   "cell_type": "code",
   "execution_count": 250,
   "id": "b77a14aa",
   "metadata": {},
   "outputs": [
    {
     "data": {
      "image/png": "[encoded data removed]",
      "text/plain": [
       "<Figure size 864x432 with 1 Axes>"
      ]
     },
     "metadata": {
      "needs_background": "light"
     },
     "output_type": "display_data"
    }
   ],
   "source": [
    "plt.figure(figsize=(12,6))\n",
    "g = sns.boxplot(x = results_CY.Rank, y = results_CY.CY)\n",
    "plt.title('SVM Predictions for CY Probability')\n",
    "plt.show()"
   ]
  },
  {
   "cell_type": "markdown",
   "id": "b1925c71",
   "metadata": {},
   "source": [
    "# Neural Networks\n",
    "\n",
    "Finally, Neural Networks are used by importing MLP Classifier from https://scikit-learn.org/stable/modules/generated/sklearn.neural_network.MLPClassifier.html\n",
    "\n",
    "A confusion matrix was created using https://www.pluralsight.com/guides/machine-learning-neural-networks-scikit-learn\n"
   ]
  },
  {
   "cell_type": "code",
   "execution_count": 294,
   "id": "88dee38a",
   "metadata": {},
   "outputs": [
    {
     "name": "stdout",
     "output_type": "stream",
     "text": [
      "[[284   2]\n",
      " [ 33   2]]\n",
      "              precision    recall  f1-score   support\n",
      "\n",
      "           0       0.90      0.99      0.94       286\n",
      "           1       0.50      0.06      0.10        35\n",
      "\n",
      "    accuracy                           0.89       321\n",
      "   macro avg       0.70      0.53      0.52       321\n",
      "weighted avg       0.85      0.89      0.85       321\n",
      "\n",
      "[[70  0]\n",
      " [10  1]]\n",
      "              precision    recall  f1-score   support\n",
      "\n",
      "           0       0.88      1.00      0.93        70\n",
      "           1       1.00      0.09      0.17        11\n",
      "\n",
      "    accuracy                           0.88        81\n",
      "   macro avg       0.94      0.55      0.55        81\n",
      "weighted avg       0.89      0.88      0.83        81\n",
      "\n"
     ]
    }
   ],
   "source": [
    "from sklearn.neural_network import MLPClassifier\n",
    "from sklearn.metrics import mean_squared_error\n",
    "from math import sqrt\n",
    "from sklearn.metrics import r2_score\n",
    "from sklearn.neural_network import MLPRegressor\n",
    "\n",
    "mlp = MLPClassifier(hidden_layer_sizes=(8,8,8), activation='relu', solver='adam', max_iter=310)\n",
    "mlp.fit(X_train,y_train)\n",
    "\n",
    "predict_train = mlp.predict(X_train)\n",
    "predict_test = mlp.predict(X_test)\n",
    "\n",
    "from sklearn.metrics import classification_report,confusion_matrix\n",
    "print(confusion_matrix(y_train,predict_train))\n",
    "print(classification_report(y_train,predict_train))\n",
    "print(confusion_matrix(y_test,predict_test))\n",
    "print(classification_report(y_test,predict_test))"
   ]
  },
  {
   "cell_type": "code",
   "execution_count": 301,
   "id": "02162556",
   "metadata": {},
   "outputs": [
    {
     "name": "stdout",
     "output_type": "stream",
     "text": [
      "     id               Name  Rank        CY\n",
      "78  396      Randy Johnson     1  0.679421\n",
      "77  385     Curt Schilling     2  0.475857\n",
      "37  158    Clayton Kershaw     3  0.441913\n",
      "33  145         Chris Sale     4  0.348875\n",
      "24  100         Josh Hader     7  0.331890\n",
      "35  154    Carlos Carrasco    13  0.279662\n",
      "21   76       Max Scherzer     3  0.264675\n",
      "55  236    Clayton Kershaw     1  0.254828\n",
      "73  344     Pedro Martinez     4  0.232815\n",
      "8    15       Carlos Rodón     6  0.226146\n",
      "48  200        Matt Harvey     4  0.223663\n",
      "22   78  Stephen Strasburg     5  0.202812\n",
      "     id              Name  Rank        CY\n",
      "78  396     Randy Johnson     1  0.679421\n",
      "20   74      Jacob deGrom     1  0.187091\n",
      "15   54      Trevor Bauer     1  0.082570\n",
      "60  283         Cliff Lee     1  0.063265\n",
      "51  225  Justin Verlander     1  0.195606\n",
      "67  320      Brandon Webb     1  0.061098\n",
      "5    10   Sandy Alcantara     1  0.056757\n",
      "32  142    Dallas Keuchel     1  0.089070\n",
      "10   22        Robbie Ray     1  0.165224\n",
      "64  296       CC Sabathia     1  0.105906\n",
      "55  236   Clayton Kershaw     1  0.254828\n",
      "50  217   Clayton Kershaw     2  0.158236\n"
     ]
    }
   ],
   "source": [
    "y_pred = mlp.predict(X_test)\n",
    "#chance a player's season wins the award\n",
    "pred_proba = mlp.predict_proba(X_test)\n",
    "\n",
    "#combine chance player's season wins an award with dataframe containing the player's name and ranking based on id\n",
    "cypredictions = []\n",
    "for i in enumerate(pred_proba):\n",
    "    cypredictions.append(i[1][1])\n",
    "\n",
    "cypredictions = np.asarray(cypredictions)\n",
    "results_CY = pd.DataFrame({'id': X_test['id'], 'CY': cypredictions})\n",
    "\n",
    "results_CY = players.merge(results_CY, on='id')\n",
    "\n",
    "#The player seasons in the test set with highest predicted probability of winning the award\n",
    "results_CY = results_CY.sort_values(by='CY', ascending=False)\n",
    "print(results_CY.head(12))\n",
    "\n",
    "#The player seasons in the test set that won the award and their predicted probability according to the model\n",
    "results_Rank = results_CY.sort_values(by='Rank', ascending=True)\n",
    "print(results_Rank.head(12))"
   ]
  },
  {
   "cell_type": "markdown",
   "id": "c9dcea2e",
   "metadata": {},
   "source": [
    "This classifier gets the same level of accuracy on the test set as SVM, while also giving very high predicted probability for the 4th place finisher to win the award as well as having very good odds for a 1st place finisher outlier.\n",
    "\n",
    "The accuracy on the training set is determined to be"
   ]
  },
  {
   "cell_type": "code",
   "execution_count": 302,
   "id": "3df2a8c7",
   "metadata": {},
   "outputs": [
    {
     "name": "stdout",
     "output_type": "stream",
     "text": [
      "0.8909657320872274\n"
     ]
    }
   ],
   "source": [
    "print(mlp.score(X_train, y_train))"
   ]
  },
  {
   "cell_type": "markdown",
   "id": "c3fe3c75",
   "metadata": {},
   "source": [
    "whereas the accuracy on the test set is determined to be"
   ]
  },
  {
   "cell_type": "code",
   "execution_count": 303,
   "id": "d592cc54",
   "metadata": {},
   "outputs": [
    {
     "data": {
      "text/plain": [
       "0.8765432098765432"
      ]
     },
     "execution_count": 303,
     "metadata": {},
     "output_type": "execute_result"
    }
   ],
   "source": [
    "accuracy_score(y_true, y_pred)"
   ]
  },
  {
   "cell_type": "code",
   "execution_count": 304,
   "id": "6a9ed702",
   "metadata": {},
   "outputs": [
    {
     "data": {
      "image/png": "[encoded data removed]",
      "text/plain": [
       "<Figure size 864x432 with 1 Axes>"
      ]
     },
     "metadata": {
      "needs_background": "light"
     },
     "output_type": "display_data"
    }
   ],
   "source": [
    "plt.figure(figsize=(12,6))\n",
    "g = sns.boxplot(x = results_CY.Rank, y = results_CY.CY)\n",
    "plt.title('NN Predictions for CY Probability')\n",
    "plt.show()"
   ]
  },
  {
   "cell_type": "markdown",
   "id": "409fade5",
   "metadata": {},
   "source": [
    "# Conclusion"
   ]
  },
  {
   "cell_type": "markdown",
   "id": "7b77f4de",
   "metadata": {},
   "source": [
    "SVM and Neural Networks finished the best out of the classifiers on the test set predictions, followed by KNN then Decision Trees performing the worst. All of the models were fairly accurate in predicting whether a player's season would win the Cy Young Award and it is clear some models favor certain statistics from players that finished lower in the test set for the award then others.\n",
    "\n",
    "# Future Work\n",
    "\n",
    "Future work would involve expanding the training set to include years further in the past as well as testing on a full season of player statistics to see if the model predicts a player that finished with votes would be predicted to win the award by the models."
   ]
  }
 ],
 "metadata": {
  "kernelspec": {
   "display_name": "Python 3",
   "language": "python",
   "name": "python3"
  },
  "language_info": {
   "codemirror_mode": {
    "name": "ipython",
    "version": 3
   },
   "file_extension": ".py",
   "mimetype": "text/x-python",
   "name": "python",
   "nbconvert_exporter": "python",
   "pygments_lexer": "ipython3",
   "version": "3.8.8"
  }
 },
 "nbformat": 4,
 "nbformat_minor": 5
}
